{
 "cells": [
  {
   "cell_type": "code",
   "execution_count": 77,
   "id": "ffaa1175",
   "metadata": {},
   "outputs": [],
   "source": [
    "import pandas as pd\n",
    "import numpy as np\n",
    "import requests\n",
    "import io\n",
    "\n",
    "import seaborn as sns"
   ]
  },
  {
   "cell_type": "code",
   "execution_count": 36,
   "id": "e6e5f6d5",
   "metadata": {},
   "outputs": [],
   "source": [
    "import warnings\n",
    "warnings.filterwarnings(\"ignore\", category=np.VisibleDeprecationWarning) "
   ]
  },
  {
   "cell_type": "markdown",
   "id": "de7627c9",
   "metadata": {},
   "source": [
    "\n",
    "\n",
    "# Отзывы, поступившие через виджет обратной связи АИС \"Мониторинг Госcайтов\n",
    " "
   ]
  },
  {
   "cell_type": "markdown",
   "id": "968ff0bf",
   "metadata": {},
   "source": [
    "Данный датасет взят с сайта\n",
    "https://data.gov.ru/opendata/3117000953-konsol"
   ]
  },
  {
   "cell_type": "code",
   "execution_count": 119,
   "id": "938db64f",
   "metadata": {},
   "outputs": [],
   "source": [
    "data = pd.read_csv(\"data-20150923t1145-structure-20150923t1145_4.csv\")"
   ]
  },
  {
   "cell_type": "code",
   "execution_count": 120,
   "id": "e6acac7a",
   "metadata": {},
   "outputs": [],
   "source": [
    "data = data.astype({\n",
    "    \"Дата сайта\" : 'datetime64',\n",
    "    \"Дата отзыва\" : 'datetime64',\n",
    "    'Дата ответа куратора': 'datetime64'\n",
    "})"
   ]
  },
  {
   "cell_type": "code",
   "execution_count": 121,
   "id": "704eceff",
   "metadata": {},
   "outputs": [],
   "source": [
    "data = data.rename(columns = {\n",
    "    \"Уровень\" : \"level\",\n",
    "    \"Сайт\" : \"site_name\",\n",
    "    \"Адрес\" : \"website\",\n",
    "    \"Дата сайта\" : \"date_site\",\n",
    "    \"Тип субъекта\" : \"type_subject\",\n",
    "    \"Подведомственность\" : \"jurisdiction\",\n",
    "    \"Дата отзыва\" : \"date_review\",\n",
    "    \"Тип отзыва\" : \"type_review\",\n",
    "    \"Заголовок\" : \"title\",\n",
    "    \"Сообщение\" : \"text\",\n",
    "    \"Ответ\" : \"answer\",\n",
    "    \"Куратор\" : \"curator\",\n",
    "    \"Решение куратора\" : \"curators_decision\",\n",
    "    \"Дата ответа куратора\" : \"date_curator_review\",\n",
    "    \"Статус\" : \"status\",\n",
    "    \"Оценка отзыва\" : \"review_rang\"\n",
    "\n",
    "})"
   ]
  },
  {
   "cell_type": "code",
   "execution_count": 122,
   "id": "55aa5116",
   "metadata": {},
   "outputs": [
    {
     "name": "stdout",
     "output_type": "stream",
     "text": [
      "<class 'pandas.core.frame.DataFrame'>\n",
      "RangeIndex: 16588 entries, 0 to 16587\n",
      "Data columns (total 16 columns):\n",
      " #   Column               Non-Null Count  Dtype         \n",
      "---  ------               --------------  -----         \n",
      " 0   level                16588 non-null  object        \n",
      " 1   site_name            16588 non-null  object        \n",
      " 2   website              16588 non-null  object        \n",
      " 3   date_site            16588 non-null  datetime64[ns]\n",
      " 4   type_subject         691 non-null    object        \n",
      " 5   jurisdiction         15301 non-null  object        \n",
      " 6   date_review          16588 non-null  datetime64[ns]\n",
      " 7   type_review          16588 non-null  object        \n",
      " 8   title                16588 non-null  object        \n",
      " 9   text                 16585 non-null  object        \n",
      " 10  answer               15442 non-null  object        \n",
      " 11  curator              14741 non-null  object        \n",
      " 12  curators_decision    14267 non-null  object        \n",
      " 13  date_curator_review  14741 non-null  datetime64[ns]\n",
      " 14  status               16588 non-null  object        \n",
      " 15  review_rang          565 non-null    object        \n",
      "dtypes: datetime64[ns](3), object(13)\n",
      "memory usage: 2.0+ MB\n"
     ]
    }
   ],
   "source": [
    "data.info()"
   ]
  },
  {
   "cell_type": "markdown",
   "id": "6d26cd99",
   "metadata": {},
   "source": [
    "Проверяем и фильтруем тестовые запросы"
   ]
  },
  {
   "cell_type": "code",
   "execution_count": 123,
   "id": "65b8aec0",
   "metadata": {},
   "outputs": [],
   "source": [
    "data = data[~ data.title.str.contains('тестовый отзыв|тестовый запрос')]"
   ]
  },
  {
   "cell_type": "markdown",
   "id": "f9aeb80d",
   "metadata": {},
   "source": [
    "#### Проверка пропущенных значений"
   ]
  },
  {
   "cell_type": "code",
   "execution_count": 124,
   "id": "e270227c",
   "metadata": {},
   "outputs": [],
   "source": [
    "missing_values = data.isna().sum()\n",
    "df_null = pd.concat([missing_values,missing_values.apply(lambda x: round(x/data.shape[0],4) * 100)]\n",
    "                    ,axis = 1,keys = ['null','% null'])"
   ]
  },
  {
   "cell_type": "code",
   "execution_count": 125,
   "id": "29912178",
   "metadata": {},
   "outputs": [
    {
     "data": {
      "text/html": [
       "<div>\n",
       "<style scoped>\n",
       "    .dataframe tbody tr th:only-of-type {\n",
       "        vertical-align: middle;\n",
       "    }\n",
       "\n",
       "    .dataframe tbody tr th {\n",
       "        vertical-align: top;\n",
       "    }\n",
       "\n",
       "    .dataframe thead th {\n",
       "        text-align: right;\n",
       "    }\n",
       "</style>\n",
       "<table border=\"1\" class=\"dataframe\">\n",
       "  <thead>\n",
       "    <tr style=\"text-align: right;\">\n",
       "      <th></th>\n",
       "      <th>null</th>\n",
       "      <th>% null</th>\n",
       "    </tr>\n",
       "  </thead>\n",
       "  <tbody>\n",
       "    <tr>\n",
       "      <th>type_subject</th>\n",
       "      <td>15895</td>\n",
       "      <td>95.83</td>\n",
       "    </tr>\n",
       "    <tr>\n",
       "      <th>jurisdiction</th>\n",
       "      <td>1287</td>\n",
       "      <td>7.76</td>\n",
       "    </tr>\n",
       "    <tr>\n",
       "      <th>text</th>\n",
       "      <td>3</td>\n",
       "      <td>0.02</td>\n",
       "    </tr>\n",
       "    <tr>\n",
       "      <th>answer</th>\n",
       "      <td>1145</td>\n",
       "      <td>6.90</td>\n",
       "    </tr>\n",
       "    <tr>\n",
       "      <th>curator</th>\n",
       "      <td>1846</td>\n",
       "      <td>11.13</td>\n",
       "    </tr>\n",
       "    <tr>\n",
       "      <th>curators_decision</th>\n",
       "      <td>2319</td>\n",
       "      <td>13.98</td>\n",
       "    </tr>\n",
       "    <tr>\n",
       "      <th>date_curator_review</th>\n",
       "      <td>1846</td>\n",
       "      <td>11.13</td>\n",
       "    </tr>\n",
       "    <tr>\n",
       "      <th>review_rang</th>\n",
       "      <td>16021</td>\n",
       "      <td>96.59</td>\n",
       "    </tr>\n",
       "  </tbody>\n",
       "</table>\n",
       "</div>"
      ],
      "text/plain": [
       "                      null  % null\n",
       "type_subject         15895   95.83\n",
       "jurisdiction          1287    7.76\n",
       "text                     3    0.02\n",
       "answer                1145    6.90\n",
       "curator               1846   11.13\n",
       "curators_decision     2319   13.98\n",
       "date_curator_review   1846   11.13\n",
       "review_rang          16021   96.59"
      ]
     },
     "execution_count": 125,
     "metadata": {},
     "output_type": "execute_result"
    }
   ],
   "source": [
    "df_null.query('null > 0')"
   ]
  },
  {
   "cell_type": "markdown",
   "id": "7c3f29ac",
   "metadata": {},
   "source": [
    "Рассмотрим пропущенные значения, проценто которых составляет более 95 процентов"
   ]
  },
  {
   "cell_type": "markdown",
   "id": "7b7a5888",
   "metadata": {},
   "source": [
    " - сравним списки сайтов где указан тип субъекта и где не указан"
   ]
  },
  {
   "cell_type": "code",
   "execution_count": 126,
   "id": "837c9b95",
   "metadata": {},
   "outputs": [],
   "source": [
    "not_null_type = data.dropna(subset = ['type_subject'])['site_name'].unique()\n",
    "null_type = data[data['type_subject'].isna()]['site_name'].unique()"
   ]
  },
  {
   "cell_type": "code",
   "execution_count": 127,
   "id": "6a4ff946",
   "metadata": {},
   "outputs": [
    {
     "data": {
      "text/plain": [
       "array([], dtype=object)"
      ]
     },
     "execution_count": 127,
     "metadata": {},
     "output_type": "execute_result"
    }
   ],
   "source": [
    "np.intersect1d(not_null_type, null_type)"
   ]
  },
  {
   "cell_type": "markdown",
   "id": "58a0e1ab",
   "metadata": {},
   "source": [
    "Как видим пересечения множеств нету, то есть в зависимости от сайта определяется указыватеся тип субъекта или нет"
   ]
  },
  {
   "cell_type": "code",
   "execution_count": 128,
   "id": "91940782",
   "metadata": {},
   "outputs": [
    {
     "data": {
      "text/plain": [
       "array([nan, 'город федерального значения', 'республика', 'область',\n",
       "       'край', 'автономный округ'], dtype=object)"
      ]
     },
     "execution_count": 128,
     "metadata": {},
     "output_type": "execute_result"
    }
   ],
   "source": [
    "data['type_subject'].unique()"
   ]
  },
  {
   "cell_type": "code",
   "execution_count": 129,
   "id": "b5bd0450",
   "metadata": {},
   "outputs": [],
   "source": [
    "from enum import Enum\n",
    "\n",
    "\n",
    "class TypeArea(str,Enum):\n",
    "    FEDERAL = 'город федерального значения'\n",
    "    REPUBLIC = 'республика'\n",
    "    AREA = 'область'\n",
    "    REGION = 'край'\n",
    "    AURONOM_REGION = 'автономный округ'\n",
    "\n",
    "def returt_type_area(name_site:str)->TypeArea:\n",
    "    \"\"\"Возвращает тип из перечисления TypeArea по вхождению подстроки\"\"\"\n",
    "    dict_values = {\n",
    "        'республик':TypeArea.REPUBLIC,\n",
    "        'област':TypeArea.AREA,\n",
    "        'край':TypeArea.REGION,\n",
    "        'края':TypeArea.REGION,\n",
    "        'округ':TypeArea.AURONOM_REGION\n",
    "    }\n",
    "    \n",
    "    for key,value in dict_values.items():\n",
    "        if key in name_site.lower():\n",
    "            return value\n",
    "    return TypeArea.FEDERAL  \n",
    "\n",
    "def return_type_category(name_site:str)->str:\n",
    "    return returt_type_area(name_site).value"
   ]
  },
  {
   "cell_type": "code",
   "execution_count": 130,
   "id": "5282fc8c",
   "metadata": {},
   "outputs": [],
   "source": [
    "null_type_col = data['type_subject'].isna()\n",
    "data.loc[null_type_col,'type_subject'] = data.loc[null_type_col,'site_name'].apply(return_type_category)"
   ]
  },
  {
   "cell_type": "markdown",
   "id": "d30be420",
   "metadata": {},
   "source": [
    "*Итого все типы субъектов занесены, что в дальнейшем поможет в анализе данных*"
   ]
  },
  {
   "cell_type": "markdown",
   "id": "c3084866",
   "metadata": {},
   "source": [
    " - далее рассмотрим оценки отзывов"
   ]
  },
  {
   "cell_type": "code",
   "execution_count": 131,
   "id": "e7c7e7f8",
   "metadata": {},
   "outputs": [
    {
     "data": {
      "text/plain": [
       "NaN                              16021\n",
       "Неудовлетворительно                233\n",
       "Да, очень полезная информация      222\n",
       "Удовлетворительно                  110\n",
       "Name: review_rang, dtype: int64"
      ]
     },
     "execution_count": 131,
     "metadata": {},
     "output_type": "execute_result"
    }
   ],
   "source": [
    "data['review_rang'].value_counts(dropna = False)"
   ]
  },
  {
   "cell_type": "markdown",
   "id": "b9bb0917",
   "metadata": {},
   "source": [
    "Введем еще одну группу: нет оценки, так как это обратная связь от пользователя"
   ]
  },
  {
   "cell_type": "code",
   "execution_count": 132,
   "id": "bf179cd4",
   "metadata": {},
   "outputs": [],
   "source": [
    "data.loc[data.review_rang.isnull(),'review_rang'] = 'Нет оценки'"
   ]
  },
  {
   "cell_type": "markdown",
   "id": "5a14b6d1",
   "metadata": {},
   "source": [
    " - далее рассмотрим пропуски, связанные с юрисдикцией, скорее всего ее также можно подобрать по смыслу\n"
   ]
  },
  {
   "cell_type": "code",
   "execution_count": 133,
   "id": "898808a8",
   "metadata": {},
   "outputs": [
    {
     "data": {
      "text/plain": [
       "Президент        9483\n",
       "Правительство    5816\n",
       "NaN              1287\n",
       "Name: jurisdiction, dtype: int64"
      ]
     },
     "execution_count": 133,
     "metadata": {},
     "output_type": "execute_result"
    }
   ],
   "source": [
    "data['jurisdiction'].value_counts(dropna=False)"
   ]
  },
  {
   "cell_type": "markdown",
   "id": "28771921",
   "metadata": {},
   "source": [
    "Выделим сайты с юрисдикцией президента"
   ]
  },
  {
   "cell_type": "code",
   "execution_count": 134,
   "id": "b84022e8",
   "metadata": {},
   "outputs": [],
   "source": [
    "list_president_site_name = data[data['jurisdiction']=='Президент']['site_name'].unique()\n",
    "list_government_site_name = data[data['jurisdiction']=='Правительство']['site_name'].unique()\n",
    "list_other_site_name = data[data['jurisdiction'].isnull()]['site_name'].unique()"
   ]
  },
  {
   "cell_type": "markdown",
   "id": "f79dfa23",
   "metadata": {},
   "source": [
    "Затем проверим, была ли еще какая-нибудь юрисдикция у данных сайтов"
   ]
  },
  {
   "cell_type": "code",
   "execution_count": 135,
   "id": "5dbf66b4",
   "metadata": {},
   "outputs": [
    {
     "name": "stdout",
     "output_type": "stream",
     "text": [
      "['Президент']\n",
      "['Правительство']\n"
     ]
    }
   ],
   "source": [
    "print(data[data['site_name'].isin(list_president_site_name)]['jurisdiction'].unique())\n",
    "print(data[data['site_name'].isin(list_government_site_name)]['jurisdiction'].unique())"
   ]
  },
  {
   "cell_type": "code",
   "execution_count": 136,
   "id": "998737a0",
   "metadata": {},
   "outputs": [
    {
     "data": {
      "text/plain": [
       "array(['Министерство регионального развития Российской Федерации (Упразднено Указом Президента №612 от 8.09.2014',\n",
       "       'Официальный сайт Пенсионного фонда Российской Федерации',\n",
       "       'Правительство Российской Федерации',\n",
       "       'Управление Федеральной службы по надзору в сфере защиты прав потребителей и благополучия человека по Республике Алтай',\n",
       "       'Федеральная служба исполнения наказаний по республике Башкортостан',\n",
       "       'Официальный портал органов власти Чувашской Республики',\n",
       "       'Официальный портал органов государственной власти Республики Бурятия',\n",
       "       'Официальный портал Правительства Ростовской области',\n",
       "       'Официальный сайт Администрации Курской области',\n",
       "       'Официальный сайт Администрации Приморского края и органов государственной власти'],\n",
       "      dtype=object)"
      ]
     },
     "execution_count": 136,
     "metadata": {},
     "output_type": "execute_result"
    }
   ],
   "source": [
    "data[data['site_name'].isin(list_other_site_name)]['site_name'].unique()[:10]"
   ]
  },
  {
   "cell_type": "markdown",
   "id": "6772fea2",
   "metadata": {},
   "source": [
    "Видно, что даже у правительства пропуски в данном разделе. Итого заполняем пропуски правительством. Так как данные ведомства находятся в его зоне ответственности"
   ]
  },
  {
   "cell_type": "code",
   "execution_count": 137,
   "id": "431b0920",
   "metadata": {},
   "outputs": [],
   "source": [
    "data['jurisdiction'].fillna('Правительство',inplace = True)"
   ]
  },
  {
   "cell_type": "markdown",
   "id": "2c6e2988",
   "metadata": {},
   "source": [
    " - отзывы без текста"
   ]
  },
  {
   "cell_type": "code",
   "execution_count": 138,
   "id": "2377559f",
   "metadata": {},
   "outputs": [
    {
     "data": {
      "text/html": [
       "<div>\n",
       "<style scoped>\n",
       "    .dataframe tbody tr th:only-of-type {\n",
       "        vertical-align: middle;\n",
       "    }\n",
       "\n",
       "    .dataframe tbody tr th {\n",
       "        vertical-align: top;\n",
       "    }\n",
       "\n",
       "    .dataframe thead th {\n",
       "        text-align: right;\n",
       "    }\n",
       "</style>\n",
       "<table border=\"1\" class=\"dataframe\">\n",
       "  <thead>\n",
       "    <tr style=\"text-align: right;\">\n",
       "      <th></th>\n",
       "      <th>level</th>\n",
       "      <th>site_name</th>\n",
       "      <th>website</th>\n",
       "      <th>date_site</th>\n",
       "      <th>type_subject</th>\n",
       "      <th>jurisdiction</th>\n",
       "      <th>date_review</th>\n",
       "      <th>type_review</th>\n",
       "      <th>title</th>\n",
       "      <th>text</th>\n",
       "      <th>answer</th>\n",
       "      <th>curator</th>\n",
       "      <th>curators_decision</th>\n",
       "      <th>date_curator_review</th>\n",
       "      <th>status</th>\n",
       "      <th>review_rang</th>\n",
       "    </tr>\n",
       "  </thead>\n",
       "  <tbody>\n",
       "    <tr>\n",
       "      <th>4067</th>\n",
       "      <td>Федеральный</td>\n",
       "      <td>Федеральная налоговая служба</td>\n",
       "      <td>http://www.nalog.ru</td>\n",
       "      <td>2013-05-16</td>\n",
       "      <td>город федерального значения</td>\n",
       "      <td>Правительство</td>\n",
       "      <td>2015-07-05</td>\n",
       "      <td>Идея</td>\n",
       "      <td>БЛАНКИ</td>\n",
       "      <td>NaN</td>\n",
       "      <td>Добрый день! В чем суть Вашего вопроса?</td>\n",
       "      <td>Киселев Владимир Константинович</td>\n",
       "      <td>Обработать</td>\n",
       "      <td>2015-05-18</td>\n",
       "      <td>Обработан</td>\n",
       "      <td>Нет оценки</td>\n",
       "    </tr>\n",
       "    <tr>\n",
       "      <th>10321</th>\n",
       "      <td>Федеральный</td>\n",
       "      <td>Федеральная служба судебных приставов</td>\n",
       "      <td>http://www.fssprus.ru</td>\n",
       "      <td>2013-05-16</td>\n",
       "      <td>город федерального значения</td>\n",
       "      <td>Президент</td>\n",
       "      <td>2014-09-19</td>\n",
       "      <td>Идея</td>\n",
       "      <td>Как часто обновляется сайт? Погашеную задолжно...</td>\n",
       "      <td>NaN</td>\n",
       "      <td>Банк данных исполнительных производств формиру...</td>\n",
       "      <td>Ищенко Роман Вячеславович</td>\n",
       "      <td>Обработать</td>\n",
       "      <td>2015-02-25</td>\n",
       "      <td>Обработан</td>\n",
       "      <td>Нет оценки</td>\n",
       "    </tr>\n",
       "    <tr>\n",
       "      <th>16468</th>\n",
       "      <td>Активные участники</td>\n",
       "      <td>Федеральная служба по тарифам (Упразднена в со...</td>\n",
       "      <td>http://www.fstrf.ru</td>\n",
       "      <td>2013-05-16</td>\n",
       "      <td>город федерального значения</td>\n",
       "      <td>Правительство</td>\n",
       "      <td>2014-11-03</td>\n",
       "      <td>Благодарность</td>\n",
       "      <td>сайт четко организован, информация полная, пои...</td>\n",
       "      <td>NaN</td>\n",
       "      <td>Добрый день! Спасибо за Ваш отзыв!</td>\n",
       "      <td>Бердникова Анастасия Андреевна</td>\n",
       "      <td>Обработать</td>\n",
       "      <td>2014-11-03</td>\n",
       "      <td>Обработан</td>\n",
       "      <td>Нет оценки</td>\n",
       "    </tr>\n",
       "  </tbody>\n",
       "</table>\n",
       "</div>"
      ],
      "text/plain": [
       "                    level                                          site_name  \\\n",
       "4067          Федеральный                       Федеральная налоговая служба   \n",
       "10321         Федеральный              Федеральная служба судебных приставов   \n",
       "16468  Активные участники  Федеральная служба по тарифам (Упразднена в со...   \n",
       "\n",
       "                     website  date_site                 type_subject  \\\n",
       "4067     http://www.nalog.ru 2013-05-16  город федерального значения   \n",
       "10321  http://www.fssprus.ru 2013-05-16  город федерального значения   \n",
       "16468    http://www.fstrf.ru 2013-05-16  город федерального значения   \n",
       "\n",
       "        jurisdiction date_review    type_review  \\\n",
       "4067   Правительство  2015-07-05           Идея   \n",
       "10321      Президент  2014-09-19           Идея   \n",
       "16468  Правительство  2014-11-03  Благодарность   \n",
       "\n",
       "                                                   title text  \\\n",
       "4067                                              БЛАНКИ  NaN   \n",
       "10321  Как часто обновляется сайт? Погашеную задолжно...  NaN   \n",
       "16468  сайт четко организован, информация полная, пои...  NaN   \n",
       "\n",
       "                                                  answer  \\\n",
       "4067             Добрый день! В чем суть Вашего вопроса?   \n",
       "10321  Банк данных исполнительных производств формиру...   \n",
       "16468                 Добрый день! Спасибо за Ваш отзыв!   \n",
       "\n",
       "                               curator curators_decision date_curator_review  \\\n",
       "4067   Киселев Владимир Константинович        Обработать          2015-05-18   \n",
       "10321        Ищенко Роман Вячеславович        Обработать          2015-02-25   \n",
       "16468   Бердникова Анастасия Андреевна        Обработать          2014-11-03   \n",
       "\n",
       "          status review_rang  \n",
       "4067   Обработан  Нет оценки  \n",
       "10321  Обработан  Нет оценки  \n",
       "16468  Обработан  Нет оценки  "
      ]
     },
     "execution_count": 138,
     "metadata": {},
     "output_type": "execute_result"
    }
   ],
   "source": [
    "data.query(\"text.isnull()\")"
   ]
  },
  {
   "cell_type": "markdown",
   "id": "c008be43",
   "metadata": {},
   "source": [
    "    - Как видим причина пропусков - некорректная работа сайтов. Два вопроса находятся в title, один вопрос с ошибкой\n",
    "    - Итого один отзыв удаляем, а в других переносим заголовок в текст"
   ]
  },
  {
   "cell_type": "markdown",
   "id": "8ae5b83f",
   "metadata": {},
   "source": [
    "Удалим строку по индексу, для избежания ошибок"
   ]
  },
  {
   "cell_type": "code",
   "execution_count": 139,
   "id": "0602b3bf",
   "metadata": {},
   "outputs": [],
   "source": [
    "data = data.drop(index=[4067])"
   ]
  },
  {
   "cell_type": "code",
   "execution_count": 140,
   "id": "4eba7a60",
   "metadata": {},
   "outputs": [],
   "source": [
    "data.loc[data.text.isnull(),'text'] = data.loc[data.text.isnull(),'title']"
   ]
  },
  {
   "cell_type": "markdown",
   "id": "1c742e8f",
   "metadata": {},
   "source": [
    " - ответы есть, но куратора и даты отзыва куратора нету"
   ]
  },
  {
   "cell_type": "markdown",
   "id": "71a88489",
   "metadata": {},
   "source": [
    "Рассмотрим отзывы, в которых был ответ, но куратор пропущен"
   ]
  },
  {
   "cell_type": "code",
   "execution_count": 141,
   "id": "1f069e36",
   "metadata": {},
   "outputs": [
    {
     "data": {
      "text/html": [
       "<div>\n",
       "<style scoped>\n",
       "    .dataframe tbody tr th:only-of-type {\n",
       "        vertical-align: middle;\n",
       "    }\n",
       "\n",
       "    .dataframe tbody tr th {\n",
       "        vertical-align: top;\n",
       "    }\n",
       "\n",
       "    .dataframe thead th {\n",
       "        text-align: right;\n",
       "    }\n",
       "</style>\n",
       "<table border=\"1\" class=\"dataframe\">\n",
       "  <thead>\n",
       "    <tr style=\"text-align: right;\">\n",
       "      <th></th>\n",
       "      <th>level</th>\n",
       "      <th>site_name</th>\n",
       "      <th>website</th>\n",
       "      <th>date_site</th>\n",
       "      <th>type_subject</th>\n",
       "      <th>jurisdiction</th>\n",
       "      <th>date_review</th>\n",
       "      <th>type_review</th>\n",
       "      <th>title</th>\n",
       "      <th>text</th>\n",
       "      <th>answer</th>\n",
       "      <th>curator</th>\n",
       "      <th>curators_decision</th>\n",
       "      <th>date_curator_review</th>\n",
       "      <th>status</th>\n",
       "      <th>review_rang</th>\n",
       "    </tr>\n",
       "  </thead>\n",
       "  <tbody>\n",
       "    <tr>\n",
       "      <th>334</th>\n",
       "      <td>Федеральный</td>\n",
       "      <td>Министерство природных ресурсов и экологии Рос...</td>\n",
       "      <td>http://www.mnr.gov.ru</td>\n",
       "      <td>2013-05-16</td>\n",
       "      <td>город федерального значения</td>\n",
       "      <td>Правительство</td>\n",
       "      <td>2012-09-13</td>\n",
       "      <td>Вопрос</td>\n",
       "      <td>Хотелось бы узнать, по какой причине на сайте ...</td>\n",
       "      <td>Хотелось бы узнать, по какой причине на сайте ...</td>\n",
       "      <td>Государственный доклад «О состоянии и использо...</td>\n",
       "      <td>NaN</td>\n",
       "      <td>Обработать</td>\n",
       "      <td>NaT</td>\n",
       "      <td>Рассмотрение</td>\n",
       "      <td>Нет оценки</td>\n",
       "    </tr>\n",
       "    <tr>\n",
       "      <th>346</th>\n",
       "      <td>Федеральный</td>\n",
       "      <td>Министерство природных ресурсов и экологии Рос...</td>\n",
       "      <td>http://www.mnr.gov.ru</td>\n",
       "      <td>2013-05-16</td>\n",
       "      <td>город федерального значения</td>\n",
       "      <td>Правительство</td>\n",
       "      <td>2013-07-01</td>\n",
       "      <td>Вопрос</td>\n",
       "      <td>Где госдоклад за 2011 г.?</td>\n",
       "      <td>Где госдоклад за 2011 г.?</td>\n",
       "      <td>Добрый день. Со всеми государственными доклада...</td>\n",
       "      <td>NaN</td>\n",
       "      <td>Обработать</td>\n",
       "      <td>NaT</td>\n",
       "      <td>Рассмотрение</td>\n",
       "      <td>Нет оценки</td>\n",
       "    </tr>\n",
       "    <tr>\n",
       "      <th>348</th>\n",
       "      <td>Федеральный</td>\n",
       "      <td>Министерство природных ресурсов и экологии Рос...</td>\n",
       "      <td>http://www.mnr.gov.ru</td>\n",
       "      <td>2013-05-16</td>\n",
       "      <td>город федерального значения</td>\n",
       "      <td>Правительство</td>\n",
       "      <td>2013-02-26</td>\n",
       "      <td>Проблема</td>\n",
       "      <td>сайт отвратительный невозможно найти ссылку дл...</td>\n",
       "      <td>сайт отвратительный невозможно найти ссылку дл...</td>\n",
       "      <td>Добрый день. Просим более корректно сформулиро...</td>\n",
       "      <td>NaN</td>\n",
       "      <td>Обработать</td>\n",
       "      <td>NaT</td>\n",
       "      <td>Рассмотрение</td>\n",
       "      <td>Нет оценки</td>\n",
       "    </tr>\n",
       "    <tr>\n",
       "      <th>349</th>\n",
       "      <td>Федеральный</td>\n",
       "      <td>Министерство природных ресурсов и экологии Рос...</td>\n",
       "      <td>http://www.mnr.gov.ru</td>\n",
       "      <td>2013-05-16</td>\n",
       "      <td>город федерального значения</td>\n",
       "      <td>Правительство</td>\n",
       "      <td>2013-05-03</td>\n",
       "      <td>Вопрос</td>\n",
       "      <td>Не нашел рубрику обращений граждан. На сайте М...</td>\n",
       "      <td>Не нашел рубрику обращений граждан. На сайте М...</td>\n",
       "      <td>Добрый день. Вы можете обратиться в Минприроды...</td>\n",
       "      <td>NaN</td>\n",
       "      <td>Обработать</td>\n",
       "      <td>NaT</td>\n",
       "      <td>Рассмотрение</td>\n",
       "      <td>Нет оценки</td>\n",
       "    </tr>\n",
       "    <tr>\n",
       "      <th>351</th>\n",
       "      <td>Федеральный</td>\n",
       "      <td>Министерство природных ресурсов и экологии Рос...</td>\n",
       "      <td>http://www.mnr.gov.ru</td>\n",
       "      <td>2013-05-16</td>\n",
       "      <td>город федерального значения</td>\n",
       "      <td>Правительство</td>\n",
       "      <td>2013-03-23</td>\n",
       "      <td>Идея</td>\n",
       "      <td>Хотелось бы прозрачности, непонятно чем занима...</td>\n",
       "      <td>Хотелось бы прозрачности, непонятно чем занима...</td>\n",
       "      <td>Добрый день. С информацией о деятельности Минп...</td>\n",
       "      <td>NaN</td>\n",
       "      <td>Обработать</td>\n",
       "      <td>NaT</td>\n",
       "      <td>Рассмотрение</td>\n",
       "      <td>Нет оценки</td>\n",
       "    </tr>\n",
       "  </tbody>\n",
       "</table>\n",
       "</div>"
      ],
      "text/plain": [
       "           level                                          site_name  \\\n",
       "334  Федеральный  Министерство природных ресурсов и экологии Рос...   \n",
       "346  Федеральный  Министерство природных ресурсов и экологии Рос...   \n",
       "348  Федеральный  Министерство природных ресурсов и экологии Рос...   \n",
       "349  Федеральный  Министерство природных ресурсов и экологии Рос...   \n",
       "351  Федеральный  Министерство природных ресурсов и экологии Рос...   \n",
       "\n",
       "                   website  date_site                 type_subject  \\\n",
       "334  http://www.mnr.gov.ru 2013-05-16  город федерального значения   \n",
       "346  http://www.mnr.gov.ru 2013-05-16  город федерального значения   \n",
       "348  http://www.mnr.gov.ru 2013-05-16  город федерального значения   \n",
       "349  http://www.mnr.gov.ru 2013-05-16  город федерального значения   \n",
       "351  http://www.mnr.gov.ru 2013-05-16  город федерального значения   \n",
       "\n",
       "      jurisdiction date_review type_review  \\\n",
       "334  Правительство  2012-09-13      Вопрос   \n",
       "346  Правительство  2013-07-01      Вопрос   \n",
       "348  Правительство  2013-02-26    Проблема   \n",
       "349  Правительство  2013-05-03      Вопрос   \n",
       "351  Правительство  2013-03-23        Идея   \n",
       "\n",
       "                                                 title  \\\n",
       "334  Хотелось бы узнать, по какой причине на сайте ...   \n",
       "346                          Где госдоклад за 2011 г.?   \n",
       "348  сайт отвратительный невозможно найти ссылку дл...   \n",
       "349  Не нашел рубрику обращений граждан. На сайте М...   \n",
       "351  Хотелось бы прозрачности, непонятно чем занима...   \n",
       "\n",
       "                                                  text  \\\n",
       "334  Хотелось бы узнать, по какой причине на сайте ...   \n",
       "346                          Где госдоклад за 2011 г.?   \n",
       "348  сайт отвратительный невозможно найти ссылку дл...   \n",
       "349  Не нашел рубрику обращений граждан. На сайте М...   \n",
       "351  Хотелось бы прозрачности, непонятно чем занима...   \n",
       "\n",
       "                                                answer curator  \\\n",
       "334  Государственный доклад «О состоянии и использо...     NaN   \n",
       "346  Добрый день. Со всеми государственными доклада...     NaN   \n",
       "348  Добрый день. Просим более корректно сформулиро...     NaN   \n",
       "349  Добрый день. Вы можете обратиться в Минприроды...     NaN   \n",
       "351  Добрый день. С информацией о деятельности Минп...     NaN   \n",
       "\n",
       "    curators_decision date_curator_review        status review_rang  \n",
       "334        Обработать                 NaT  Рассмотрение  Нет оценки  \n",
       "346        Обработать                 NaT  Рассмотрение  Нет оценки  \n",
       "348        Обработать                 NaT  Рассмотрение  Нет оценки  \n",
       "349        Обработать                 NaT  Рассмотрение  Нет оценки  \n",
       "351        Обработать                 NaT  Рассмотрение  Нет оценки  "
      ]
     },
     "execution_count": 141,
     "metadata": {},
     "output_type": "execute_result"
    }
   ],
   "source": [
    "data.query('answer.notnull() and curator.isnull()').head()"
   ]
  },
  {
   "cell_type": "code",
   "execution_count": 142,
   "id": "679fde8d",
   "metadata": {},
   "outputs": [
    {
     "name": "stdout",
     "output_type": "stream",
     "text": [
      "<class 'pandas.core.frame.DataFrame'>\n",
      "Int64Index: 703 entries, 334 to 16497\n",
      "Data columns (total 16 columns):\n",
      " #   Column               Non-Null Count  Dtype         \n",
      "---  ------               --------------  -----         \n",
      " 0   level                703 non-null    object        \n",
      " 1   site_name            703 non-null    object        \n",
      " 2   website              703 non-null    object        \n",
      " 3   date_site            703 non-null    datetime64[ns]\n",
      " 4   type_subject         703 non-null    object        \n",
      " 5   jurisdiction         703 non-null    object        \n",
      " 6   date_review          703 non-null    datetime64[ns]\n",
      " 7   type_review          703 non-null    object        \n",
      " 8   title                703 non-null    object        \n",
      " 9   text                 703 non-null    object        \n",
      " 10  answer               703 non-null    object        \n",
      " 11  curator              0 non-null      object        \n",
      " 12  curators_decision    703 non-null    object        \n",
      " 13  date_curator_review  0 non-null      datetime64[ns]\n",
      " 14  status               703 non-null    object        \n",
      " 15  review_rang          703 non-null    object        \n",
      "dtypes: datetime64[ns](3), object(13)\n",
      "memory usage: 93.4+ KB\n"
     ]
    }
   ],
   "source": [
    "data.query('answer.notnull() and curator.isnull()').info()"
   ]
  },
  {
   "cell_type": "markdown",
   "id": "64afe3ab",
   "metadata": {},
   "source": [
    "Присвоим таким кураторам значение - неизвестный куратор"
   ]
  },
  {
   "cell_type": "code",
   "execution_count": 143,
   "id": "c6a9f84f",
   "metadata": {},
   "outputs": [],
   "source": [
    "data.loc[data.answer.notnull() & data.curator.isnull() ,'curator'] = \"Неизвестный куратор\""
   ]
  },
  {
   "cell_type": "markdown",
   "id": "247feb67",
   "metadata": {},
   "source": [
    "Для того чтобы присвоить даты, посчитаем разницу между датой отзыва и датой ответа"
   ]
  },
  {
   "cell_type": "code",
   "execution_count": 144,
   "id": "554c13af",
   "metadata": {},
   "outputs": [],
   "source": [
    "data_delta_date = (data['date_review'] - data['date_curator_review'])"
   ]
  },
  {
   "cell_type": "code",
   "execution_count": 145,
   "id": "8e37093c",
   "metadata": {},
   "outputs": [
    {
     "data": {
      "text/plain": [
       "0   0 days\n",
       "dtype: timedelta64[ns]"
      ]
     },
     "execution_count": 145,
     "metadata": {},
     "output_type": "execute_result"
    }
   ],
   "source": [
    "data_delta_date.mode()"
   ]
  },
  {
   "cell_type": "code",
   "execution_count": 146,
   "id": "525a06fc",
   "metadata": {},
   "outputs": [
    {
     "data": {
      "text/plain": [
       "<seaborn.axisgrid.FacetGrid at 0x19f9f52bf10>"
      ]
     },
     "execution_count": 146,
     "metadata": {},
     "output_type": "execute_result"
    },
    {
     "data": {
      "image/png": "[encoded data removed]",
      "text/plain": [
       "<Figure size 360x360 with 1 Axes>"
      ]
     },
     "metadata": {
      "needs_background": "light"
     },
     "output_type": "display_data"
    }
   ],
   "source": [
    "sns.displot(data_delta_date.dt.days)"
   ]
  },
  {
   "cell_type": "markdown",
   "id": "0b5fa1d6",
   "metadata": {},
   "source": [
    "Итого подавляющее большинство отзывов получают rewiev куратора в тот же день. Поэтому поставим дату rewiev равную дате отзыва"
   ]
  },
  {
   "cell_type": "code",
   "execution_count": 147,
   "id": "e45fcf28",
   "metadata": {},
   "outputs": [],
   "source": [
    "data.loc[data.answer.notnull() & data.date_curator_review.isnull() ,'date_curator_review'] = \\\n",
    "data.loc[data.answer.notnull() & data.date_curator_review.isnull() ,'date_review']"
   ]
  },
  {
   "cell_type": "markdown",
   "id": "901e7940",
   "metadata": {},
   "source": [
    "- заполняем оставшиеся пропуски новыми категориями"
   ]
  },
  {
   "cell_type": "code",
   "execution_count": 152,
   "id": "27f5effc",
   "metadata": {},
   "outputs": [],
   "source": [
    "data.loc[data.curator.isnull(),\"curator\"] = \"Нет куратора\"\n",
    "data.loc[data.answer.isnull(),\"answer\"] = \"Нет ответа\"\n",
    "data.loc[data.curators_decision.isnull(),\"curators_decision\"] = \"Нет решения\""
   ]
  },
  {
   "cell_type": "code",
   "execution_count": 154,
   "id": "7580786d",
   "metadata": {},
   "outputs": [],
   "source": [
    "data.loc[data.date_curator_review.isnull(),\"date_curator_review\"] = \\\n",
    "data.loc[data.date_curator_review.isnull(),\"date_review\"]"
   ]
  },
  {
   "cell_type": "code",
   "execution_count": null,
   "id": "c604e68f",
   "metadata": {},
   "outputs": [],
   "source": []
  },
  {
   "cell_type": "code",
   "execution_count": null,
   "id": "2604fb7d",
   "metadata": {},
   "outputs": [],
   "source": []
  },
  {
   "cell_type": "code",
   "execution_count": null,
   "id": "2168caeb",
   "metadata": {},
   "outputs": [],
   "source": []
  }
 ],
 "metadata": {
  "kernelspec": {
   "display_name": "Python 3",
   "language": "python",
   "name": "python3"
  },
  "language_info": {
   "codemirror_mode": {
    "name": "ipython",
    "version": 3
   },
   "file_extension": ".py",
   "mimetype": "text/x-python",
   "name": "python",
   "nbconvert_exporter": "python",
   "pygments_lexer": "ipython3",
   "version": "3.9.5"
  },
  "latex_envs": {
   "LaTeX_envs_menu_present": true,
   "autoclose": false,
   "autocomplete": true,
   "bibliofile": "biblio.bib",
   "cite_by": "apalike",
   "current_citInitial": 1,
   "eqLabelWithNumbers": true,
   "eqNumInitial": 1,
   "hotkeys": {
    "equation": "Ctrl-E",
    "itemize": "Ctrl-I"
   },
   "labels_anchors": false,
   "latex_user_defs": false,
   "report_style_numbering": false,
   "user_envs_cfg": false
  },
  "toc": {
   "base_numbering": 1,
   "nav_menu": {},
   "number_sections": true,
   "sideBar": true,
   "skip_h1_title": false,
   "title_cell": "Table of Contents",
   "title_sidebar": "Contents",
   "toc_cell": false,
   "toc_position": {},
   "toc_section_display": true,
   "toc_window_display": false
  }
 },
 "nbformat": 4,
 "nbformat_minor": 5
}
