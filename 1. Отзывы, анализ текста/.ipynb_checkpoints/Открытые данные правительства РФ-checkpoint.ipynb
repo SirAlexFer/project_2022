{
 "cells": [
  {
   "cell_type": "code",
   "execution_count": 77,
   "id": "ffaa1175",
   "metadata": {},
   "outputs": [],
   "source": [
    "import pandas as pd\n",
    "import numpy as np\n",
    "import requests\n",
    "import io"
   ]
  },
  {
   "cell_type": "markdown",
   "id": "de7627c9",
   "metadata": {},
   "source": [
    "\n",
    "\n",
    "# Отзывы, поступившие через виджет обратной связи АИС \"Мониторинг Госcайтов\n",
    " "
   ]
  },
  {
   "cell_type": "markdown",
   "id": "968ff0bf",
   "metadata": {},
   "source": [
    "Данный датасет взят с сайта\n",
    "https://data.gov.ru/opendata/3117000953-konsol"
   ]
  },
  {
   "cell_type": "code",
   "execution_count": 3,
   "id": "938db64f",
   "metadata": {},
   "outputs": [],
   "source": [
    "data = pd.read_csv(\"data-20150923t1145-structure-20150923t1145_4.csv\")"
   ]
  },
  {
   "cell_type": "code",
   "execution_count": 13,
   "id": "e6acac7a",
   "metadata": {},
   "outputs": [],
   "source": [
    "data = data.astype({\n",
    "    \"Дата сайта\" : 'datetime64',\n",
    "    \"Дата отзыва\" : 'datetime64',\n",
    "    'Дата ответа куратора': 'datetime64'\n",
    "})"
   ]
  },
  {
   "cell_type": "markdown",
   "id": "f9aeb80d",
   "metadata": {},
   "source": [
    "#### Проверка пропущенных значений"
   ]
  },
  {
   "cell_type": "code",
   "execution_count": 57,
   "id": "e270227c",
   "metadata": {},
   "outputs": [],
   "source": [
    "missing_values = data.isna().sum()\n",
    "df_null = pd.concat([missing_values,missing_values.apply(lambda x: round(x/data.shape[0],4) * 100)]\n",
    "                    ,axis = 1,keys = ['null','% null'])"
   ]
  },
  {
   "cell_type": "code",
   "execution_count": 58,
   "id": "29912178",
   "metadata": {},
   "outputs": [
    {
     "data": {
      "text/html": [
       "<div>\n",
       "<style scoped>\n",
       "    .dataframe tbody tr th:only-of-type {\n",
       "        vertical-align: middle;\n",
       "    }\n",
       "\n",
       "    .dataframe tbody tr th {\n",
       "        vertical-align: top;\n",
       "    }\n",
       "\n",
       "    .dataframe thead th {\n",
       "        text-align: right;\n",
       "    }\n",
       "</style>\n",
       "<table border=\"1\" class=\"dataframe\">\n",
       "  <thead>\n",
       "    <tr style=\"text-align: right;\">\n",
       "      <th></th>\n",
       "      <th>null</th>\n",
       "      <th>% null</th>\n",
       "    </tr>\n",
       "  </thead>\n",
       "  <tbody>\n",
       "    <tr>\n",
       "      <th>Тип субъекта</th>\n",
       "      <td>15897</td>\n",
       "      <td>95.83</td>\n",
       "    </tr>\n",
       "    <tr>\n",
       "      <th>Подведомственность</th>\n",
       "      <td>1287</td>\n",
       "      <td>7.76</td>\n",
       "    </tr>\n",
       "    <tr>\n",
       "      <th>Сообщение</th>\n",
       "      <td>3</td>\n",
       "      <td>0.02</td>\n",
       "    </tr>\n",
       "    <tr>\n",
       "      <th>Ответ</th>\n",
       "      <td>1146</td>\n",
       "      <td>6.91</td>\n",
       "    </tr>\n",
       "    <tr>\n",
       "      <th>Куратор</th>\n",
       "      <td>1847</td>\n",
       "      <td>11.13</td>\n",
       "    </tr>\n",
       "    <tr>\n",
       "      <th>Решение куратора</th>\n",
       "      <td>2321</td>\n",
       "      <td>13.99</td>\n",
       "    </tr>\n",
       "    <tr>\n",
       "      <th>Дата ответа куратора</th>\n",
       "      <td>1847</td>\n",
       "      <td>11.13</td>\n",
       "    </tr>\n",
       "    <tr>\n",
       "      <th>Оценка отзыва</th>\n",
       "      <td>16023</td>\n",
       "      <td>96.59</td>\n",
       "    </tr>\n",
       "  </tbody>\n",
       "</table>\n",
       "</div>"
      ],
      "text/plain": [
       "                       null  % null\n",
       "Тип субъекта          15897   95.83\n",
       "Подведомственность     1287    7.76\n",
       "Сообщение                 3    0.02\n",
       "Ответ                  1146    6.91\n",
       "Куратор                1847   11.13\n",
       "Решение куратора       2321   13.99\n",
       "Дата ответа куратора   1847   11.13\n",
       "Оценка отзыва         16023   96.59"
      ]
     },
     "execution_count": 58,
     "metadata": {},
     "output_type": "execute_result"
    }
   ],
   "source": [
    "df_null.query('null > 0')"
   ]
  },
  {
   "cell_type": "markdown",
   "id": "7c3f29ac",
   "metadata": {},
   "source": [
    "Рассмотрим пропущенные значения, проценто которых составляет более 95 процентов"
   ]
  },
  {
   "cell_type": "markdown",
   "id": "7b7a5888",
   "metadata": {},
   "source": [
    " - сравним списки сайтов где указан тип субъекта и где не указан"
   ]
  },
  {
   "cell_type": "code",
   "execution_count": 76,
   "id": "837c9b95",
   "metadata": {},
   "outputs": [],
   "source": [
    "not_null_type = data.dropna(subset = ['Тип субъекта'])['Сайт'].unique()\n",
    "null_type = data[data['Тип субъекта'].isna()]['Сайт'].unique()"
   ]
  },
  {
   "cell_type": "code",
   "execution_count": 80,
   "id": "6a4ff946",
   "metadata": {},
   "outputs": [
    {
     "data": {
      "text/plain": [
       "array([], dtype=object)"
      ]
     },
     "execution_count": 80,
     "metadata": {},
     "output_type": "execute_result"
    }
   ],
   "source": [
    "np.intersect1d(not_null_type, null_type)"
   ]
  },
  {
   "cell_type": "markdown",
   "id": "58a0e1ab",
   "metadata": {},
   "source": [
    "Как видим пересечения множеств нету, то есть в зависимости от сайта определяется указыватеся тип субъекта или нет"
   ]
  },
  {
   "cell_type": "code",
   "execution_count": 84,
   "id": "91940782",
   "metadata": {},
   "outputs": [
    {
     "data": {
      "text/plain": [
       "array([nan, 'город федерального значения', 'республика', 'область',\n",
       "       'край', 'автономный округ'], dtype=object)"
      ]
     },
     "execution_count": 84,
     "metadata": {},
     "output_type": "execute_result"
    }
   ],
   "source": [
    "data['Тип субъекта'].unique()"
   ]
  },
  {
   "cell_type": "code",
   "execution_count": null,
   "id": "b5bd0450",
   "metadata": {},
   "outputs": [],
   "source": []
  },
  {
   "cell_type": "code",
   "execution_count": null,
   "id": "b84022e8",
   "metadata": {},
   "outputs": [],
   "source": []
  }
 ],
 "metadata": {
  "kernelspec": {
   "display_name": "Python 3",
   "language": "python",
   "name": "python3"
  },
  "language_info": {
   "codemirror_mode": {
    "name": "ipython",
    "version": 3
   },
   "file_extension": ".py",
   "mimetype": "text/x-python",
   "name": "python",
   "nbconvert_exporter": "python",
   "pygments_lexer": "ipython3",
   "version": "3.9.5"
  },
  "latex_envs": {
   "LaTeX_envs_menu_present": true,
   "autoclose": false,
   "autocomplete": true,
   "bibliofile": "biblio.bib",
   "cite_by": "apalike",
   "current_citInitial": 1,
   "eqLabelWithNumbers": true,
   "eqNumInitial": 1,
   "hotkeys": {
    "equation": "Ctrl-E",
    "itemize": "Ctrl-I"
   },
   "labels_anchors": false,
   "latex_user_defs": false,
   "report_style_numbering": false,
   "user_envs_cfg": false
  },
  "toc": {
   "base_numbering": 1,
   "nav_menu": {},
   "number_sections": true,
   "sideBar": true,
   "skip_h1_title": false,
   "title_cell": "Table of Contents",
   "title_sidebar": "Contents",
   "toc_cell": false,
   "toc_position": {},
   "toc_section_display": true,
   "toc_window_display": false
  }
 },
 "nbformat": 4,
 "nbformat_minor": 5
}
