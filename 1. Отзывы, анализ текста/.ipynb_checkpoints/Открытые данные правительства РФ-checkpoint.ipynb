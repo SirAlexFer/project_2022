{
 "cells": [
  {
   "cell_type": "code",
   "execution_count": 157,
   "id": "ffaa1175",
   "metadata": {},
   "outputs": [],
   "source": [
    "import pandas as pd\n",
    "import numpy as np\n",
    "import requests\n",
    "import io"
   ]
  },
  {
   "cell_type": "code",
   "execution_count": 158,
   "id": "6070d30d",
   "metadata": {},
   "outputs": [],
   "source": [
    "import warnings\n",
    "warnings.filterwarnings(\"ignore\", category=np.VisibleDeprecationWarning) "
   ]
  },
  {
   "cell_type": "markdown",
   "id": "de7627c9",
   "metadata": {},
   "source": [
    "\n",
    "\n",
    "# Отзывы, поступившие через виджет обратной связи АИС \"Мониторинг Госcайтов\n",
    " "
   ]
  },
  {
   "cell_type": "markdown",
   "id": "968ff0bf",
   "metadata": {},
   "source": [
    "Данный датасет взят с сайта\n",
    "https://data.gov.ru/opendata/3117000953-konsol"
   ]
  },
  {
   "cell_type": "code",
   "execution_count": 159,
   "id": "938db64f",
   "metadata": {},
   "outputs": [],
   "source": [
    "data = pd.read_csv(\"data-20150923t1145-structure-20150923t1145_4.csv\")"
   ]
  },
  {
   "cell_type": "code",
   "execution_count": 160,
   "id": "e6acac7a",
   "metadata": {},
   "outputs": [],
   "source": [
    "data = data.astype({\n",
    "    \"Дата сайта\" : 'datetime64',\n",
    "    \"Дата отзыва\" : 'datetime64',\n",
    "    'Дата ответа куратора': 'datetime64'\n",
    "})"
   ]
  },
  {
   "cell_type": "code",
   "execution_count": 161,
   "id": "1552d736",
   "metadata": {},
   "outputs": [],
   "source": [
    "data = data.rename(columns = {\n",
    "    \"Уровень\" : \"level\",\n",
    "    \"Сайт\" : \"site_name\",\n",
    "    \"Адрес\" : \"website\",\n",
    "    \"Дата сайта\" : \"date_site\",\n",
    "    \"Тип субъекта\" : \"type_subject\",\n",
    "    \"Подведомственность\" : \"jurisdiction\",\n",
    "    \"Дата отзыва\" : \"date_review\",\n",
    "    \"Тип отзыва\" : \"type_review\",\n",
    "    \"Заголовок\" : \"title\",\n",
    "    \"Сообщение\" : \"text\",\n",
    "    \"Ответ\" : \"answer\",\n",
    "    \"Куратор\" : \"curator\",\n",
    "    \"Решение куратора\" : \"curators_decision\",\n",
    "    \"Дата ответа куратора\" : \"date_curator_review\",\n",
    "    \"Статус\" : \"status\",\n",
    "    \"Оценка отзыва\" : \"review_rang\"\n",
    "\n",
    "})"
   ]
  },
  {
   "cell_type": "code",
   "execution_count": 162,
   "id": "55aa5116",
   "metadata": {},
   "outputs": [
    {
     "name": "stdout",
     "output_type": "stream",
     "text": [
      "<class 'pandas.core.frame.DataFrame'>\n",
      "RangeIndex: 16588 entries, 0 to 16587\n",
      "Data columns (total 16 columns):\n",
      " #   Column               Non-Null Count  Dtype         \n",
      "---  ------               --------------  -----         \n",
      " 0   level                16588 non-null  object        \n",
      " 1   site_name            16588 non-null  object        \n",
      " 2   website              16588 non-null  object        \n",
      " 3   date_site            16588 non-null  datetime64[ns]\n",
      " 4   type_subject         691 non-null    object        \n",
      " 5   jurisdiction         15301 non-null  object        \n",
      " 6   date_review          16588 non-null  datetime64[ns]\n",
      " 7   type_review          16588 non-null  object        \n",
      " 8   title                16588 non-null  object        \n",
      " 9   text                 16585 non-null  object        \n",
      " 10  answer               15442 non-null  object        \n",
      " 11  curator              14741 non-null  object        \n",
      " 12  curators_decision    14267 non-null  object        \n",
      " 13  date_curator_review  14741 non-null  datetime64[ns]\n",
      " 14  status               16588 non-null  object        \n",
      " 15  review_rang          565 non-null    object        \n",
      "dtypes: datetime64[ns](3), object(13)\n",
      "memory usage: 2.0+ MB\n"
     ]
    }
   ],
   "source": [
    "data.info()"
   ]
  },
  {
   "cell_type": "markdown",
   "id": "f9aeb80d",
   "metadata": {},
   "source": [
    "#### Проверка пропущенных значений"
   ]
  },
  {
   "cell_type": "code",
   "execution_count": 163,
   "id": "e270227c",
   "metadata": {},
   "outputs": [],
   "source": [
    "missing_values = data.isna().sum()\n",
    "df_null = pd.concat([missing_values,missing_values.apply(lambda x: round(x/data.shape[0],4) * 100)]\n",
    "                    ,axis = 1,keys = ['null','% null'])"
   ]
  },
  {
   "cell_type": "code",
   "execution_count": 164,
   "id": "29912178",
   "metadata": {},
   "outputs": [
    {
     "data": {
      "text/html": [
       "<div>\n",
       "<style scoped>\n",
       "    .dataframe tbody tr th:only-of-type {\n",
       "        vertical-align: middle;\n",
       "    }\n",
       "\n",
       "    .dataframe tbody tr th {\n",
       "        vertical-align: top;\n",
       "    }\n",
       "\n",
       "    .dataframe thead th {\n",
       "        text-align: right;\n",
       "    }\n",
       "</style>\n",
       "<table border=\"1\" class=\"dataframe\">\n",
       "  <thead>\n",
       "    <tr style=\"text-align: right;\">\n",
       "      <th></th>\n",
       "      <th>null</th>\n",
       "      <th>% null</th>\n",
       "    </tr>\n",
       "  </thead>\n",
       "  <tbody>\n",
       "    <tr>\n",
       "      <th>type_subject</th>\n",
       "      <td>15897</td>\n",
       "      <td>95.83</td>\n",
       "    </tr>\n",
       "    <tr>\n",
       "      <th>jurisdiction</th>\n",
       "      <td>1287</td>\n",
       "      <td>7.76</td>\n",
       "    </tr>\n",
       "    <tr>\n",
       "      <th>text</th>\n",
       "      <td>3</td>\n",
       "      <td>0.02</td>\n",
       "    </tr>\n",
       "    <tr>\n",
       "      <th>answer</th>\n",
       "      <td>1146</td>\n",
       "      <td>6.91</td>\n",
       "    </tr>\n",
       "    <tr>\n",
       "      <th>curator</th>\n",
       "      <td>1847</td>\n",
       "      <td>11.13</td>\n",
       "    </tr>\n",
       "    <tr>\n",
       "      <th>curators_decision</th>\n",
       "      <td>2321</td>\n",
       "      <td>13.99</td>\n",
       "    </tr>\n",
       "    <tr>\n",
       "      <th>date_curator_review</th>\n",
       "      <td>1847</td>\n",
       "      <td>11.13</td>\n",
       "    </tr>\n",
       "    <tr>\n",
       "      <th>review_rang</th>\n",
       "      <td>16023</td>\n",
       "      <td>96.59</td>\n",
       "    </tr>\n",
       "  </tbody>\n",
       "</table>\n",
       "</div>"
      ],
      "text/plain": [
       "                      null  % null\n",
       "type_subject         15897   95.83\n",
       "jurisdiction          1287    7.76\n",
       "text                     3    0.02\n",
       "answer                1146    6.91\n",
       "curator               1847   11.13\n",
       "curators_decision     2321   13.99\n",
       "date_curator_review   1847   11.13\n",
       "review_rang          16023   96.59"
      ]
     },
     "execution_count": 164,
     "metadata": {},
     "output_type": "execute_result"
    }
   ],
   "source": [
    "df_null.query('null > 0')"
   ]
  },
  {
   "cell_type": "markdown",
   "id": "7c3f29ac",
   "metadata": {},
   "source": [
    "Рассмотрим пропущенные значения, проценто которых составляет более 95 процентов"
   ]
  },
  {
   "cell_type": "markdown",
   "id": "7b7a5888",
   "metadata": {},
   "source": [
    " - сравним списки сайтов где указан тип субъекта и где не указан"
   ]
  },
  {
   "cell_type": "code",
   "execution_count": 165,
   "id": "837c9b95",
   "metadata": {},
   "outputs": [],
   "source": [
    "not_null_type = data.dropna(subset = ['type_subject'])['site_name'].unique()\n",
    "null_type = data[data['type_subject'].isna()]['site_name'].unique()"
   ]
  },
  {
   "cell_type": "code",
   "execution_count": 166,
   "id": "6a4ff946",
   "metadata": {},
   "outputs": [
    {
     "data": {
      "text/plain": [
       "array([], dtype=object)"
      ]
     },
     "execution_count": 166,
     "metadata": {},
     "output_type": "execute_result"
    }
   ],
   "source": [
    "np.intersect1d(not_null_type, null_type)"
   ]
  },
  {
   "cell_type": "markdown",
   "id": "58a0e1ab",
   "metadata": {},
   "source": [
    "Как видим пересечения множеств нету, то есть в зависимости от сайта определяется указыватеся тип субъекта или нет"
   ]
  },
  {
   "cell_type": "code",
   "execution_count": 167,
   "id": "91940782",
   "metadata": {},
   "outputs": [
    {
     "data": {
      "text/plain": [
       "array([nan, 'город федерального значения', 'республика', 'область',\n",
       "       'край', 'автономный округ'], dtype=object)"
      ]
     },
     "execution_count": 167,
     "metadata": {},
     "output_type": "execute_result"
    }
   ],
   "source": [
    "data['type_subject'].unique()"
   ]
  },
  {
   "cell_type": "code",
   "execution_count": 168,
   "id": "b5bd0450",
   "metadata": {},
   "outputs": [],
   "source": [
    "from enum import Enum\n",
    "\n",
    "\n",
    "class TypeArea(str,Enum):\n",
    "    FEDERAL = 'город федерального значения'\n",
    "    REPUBLIC = 'республика'\n",
    "    AREA = 'область'\n",
    "    REGION = 'край'\n",
    "    AURONOM_REGION = 'автономный округ'\n",
    "\n",
    "def returt_type_area(name_site:str)->TypeArea:\n",
    "    \"\"\"Возвращает тип из перечисления TypeArea по вхождению подстроки\"\"\"\n",
    "    dict_values = {\n",
    "        'республик':TypeArea.REPUBLIC,\n",
    "        'област':TypeArea.AREA,\n",
    "        'край':TypeArea.REGION,\n",
    "        'края':TypeArea.REGION,\n",
    "        'округ':TypeArea.AURONOM_REGION\n",
    "    }\n",
    "    \n",
    "    for key,value in dict_values.items():\n",
    "        if key in name_site.lower():\n",
    "            return value\n",
    "    return TypeArea.FEDERAL  \n",
    "\n",
    "def return_type_category(name_site:str)->str:\n",
    "    return returt_type_area(name_site).value"
   ]
  },
  {
   "cell_type": "code",
   "execution_count": 169,
   "id": "5282fc8c",
   "metadata": {},
   "outputs": [],
   "source": [
    "null_type_col = data['type_subject'].isna()\n",
    "data.loc[null_type_col,'type_subject'] = data.loc[null_type_col,'site_name'].apply(return_type_category)"
   ]
  },
  {
   "cell_type": "markdown",
   "id": "d30be420",
   "metadata": {},
   "source": [
    "*Итого все типы субъектов занесены, что в дальнейшем поможет в анализе данных*"
   ]
  },
  {
   "cell_type": "markdown",
   "id": "c3084866",
   "metadata": {},
   "source": [
    " - далее рассмотрим оценки отзывов"
   ]
  },
  {
   "cell_type": "code",
   "execution_count": 170,
   "id": "e7c7e7f8",
   "metadata": {},
   "outputs": [
    {
     "data": {
      "text/plain": [
       "NaN                              16023\n",
       "Неудовлетворительно                233\n",
       "Да, очень полезная информация      222\n",
       "Удовлетворительно                  110\n",
       "Name: review_rang, dtype: int64"
      ]
     },
     "execution_count": 170,
     "metadata": {},
     "output_type": "execute_result"
    }
   ],
   "source": [
    "data['review_rang'].value_counts(dropna = False)"
   ]
  },
  {
   "cell_type": "markdown",
   "id": "1cddd44a",
   "metadata": {},
   "source": [
    "Введем еще одну группу: нет оценки, так как это обратная связь от пользователя"
   ]
  },
  {
   "cell_type": "code",
   "execution_count": 171,
   "id": "bf179cd4",
   "metadata": {},
   "outputs": [],
   "source": [
    "data.loc[data.review_rang.isnull(),'review_rang'] = 'Нет оценки'"
   ]
  },
  {
   "cell_type": "markdown",
   "id": "06d0a859",
   "metadata": {},
   "source": [
    " - далее рассмотрим пропуски, связанные с юрисдикцией, скорее всего ее также можно подобрать по смыслу\n"
   ]
  },
  {
   "cell_type": "code",
   "execution_count": 172,
   "id": "47012203",
   "metadata": {},
   "outputs": [
    {
     "data": {
      "text/plain": [
       "Президент        9483\n",
       "Правительство    5818\n",
       "NaN              1287\n",
       "Name: jurisdiction, dtype: int64"
      ]
     },
     "execution_count": 172,
     "metadata": {},
     "output_type": "execute_result"
    }
   ],
   "source": [
    "data['jurisdiction'].value_counts(dropna=False)"
   ]
  },
  {
   "cell_type": "markdown",
   "id": "c4a79d75",
   "metadata": {},
   "source": [
    "Выделим сайты с юрисдикцией президента"
   ]
  },
  {
   "cell_type": "code",
   "execution_count": 173,
   "id": "b84022e8",
   "metadata": {},
   "outputs": [],
   "source": [
    "list_president_site_name = data[data['jurisdiction']=='Президент']['site_name'].unique()\n",
    "list_government_site_name = data[data['jurisdiction']=='Правительство']['site_name'].unique()\n",
    "list_other_site_name = data[data['jurisdiction'].isnull()]['site_name'].unique()"
   ]
  },
  {
   "cell_type": "markdown",
   "id": "956fdabe",
   "metadata": {},
   "source": [
    "Затем проверим, была ли еще какая-нибудь юрисдикция у данных сайтов"
   ]
  },
  {
   "cell_type": "code",
   "execution_count": 174,
   "id": "a3908ce1",
   "metadata": {},
   "outputs": [
    {
     "name": "stdout",
     "output_type": "stream",
     "text": [
      "['Президент']\n",
      "['Правительство']\n"
     ]
    }
   ],
   "source": [
    "print(data[data['site_name'].isin(list_president_site_name)]['jurisdiction'].unique())\n",
    "print(data[data['site_name'].isin(list_government_site_name)]['jurisdiction'].unique())"
   ]
  },
  {
   "cell_type": "code",
   "execution_count": 175,
   "id": "6b1802a0",
   "metadata": {},
   "outputs": [
    {
     "data": {
      "text/plain": [
       "array(['Министерство регионального развития Российской Федерации (Упразднено Указом Президента №612 от 8.09.2014',\n",
       "       'Официальный сайт Пенсионного фонда Российской Федерации',\n",
       "       'Правительство Российской Федерации',\n",
       "       'Управление Федеральной службы по надзору в сфере защиты прав потребителей и благополучия человека по Республике Алтай',\n",
       "       'Федеральная служба исполнения наказаний по республике Башкортостан',\n",
       "       'Официальный портал органов власти Чувашской Республики',\n",
       "       'Официальный портал органов государственной власти Республики Бурятия',\n",
       "       'Официальный портал Правительства Ростовской области',\n",
       "       'Официальный сайт Администрации Курской области',\n",
       "       'Официальный сайт Администрации Приморского края и органов государственной власти'],\n",
       "      dtype=object)"
      ]
     },
     "execution_count": 175,
     "metadata": {},
     "output_type": "execute_result"
    }
   ],
   "source": [
    "data[data['site_name'].isin(list_other_site_name)]['site_name'].unique()[:10]"
   ]
  },
  {
   "cell_type": "markdown",
   "id": "f4b82fc5",
   "metadata": {},
   "source": [
    "Видно, что даже у правительства пропуски в данном разделе. Итого заполняем пропуски правительством. Так как данные ведомства находятся в его зоне ответственности"
   ]
  },
  {
   "cell_type": "code",
   "execution_count": 176,
   "id": "1ce57dde",
   "metadata": {},
   "outputs": [],
   "source": [
    "data['jurisdiction'].fillna('Правительство',inplace = True)"
   ]
  },
  {
   "cell_type": "markdown",
   "id": "d63f229d",
   "metadata": {},
   "source": [
    " - отзывы без текста"
   ]
  },
  {
   "cell_type": "code",
   "execution_count": 177,
   "id": "4eb680db",
   "metadata": {},
   "outputs": [
    {
     "data": {
      "text/html": [
       "<div>\n",
       "<style scoped>\n",
       "    .dataframe tbody tr th:only-of-type {\n",
       "        vertical-align: middle;\n",
       "    }\n",
       "\n",
       "    .dataframe tbody tr th {\n",
       "        vertical-align: top;\n",
       "    }\n",
       "\n",
       "    .dataframe thead th {\n",
       "        text-align: right;\n",
       "    }\n",
       "</style>\n",
       "<table border=\"1\" class=\"dataframe\">\n",
       "  <thead>\n",
       "    <tr style=\"text-align: right;\">\n",
       "      <th></th>\n",
       "      <th>level</th>\n",
       "      <th>site_name</th>\n",
       "      <th>website</th>\n",
       "      <th>date_site</th>\n",
       "      <th>type_subject</th>\n",
       "      <th>jurisdiction</th>\n",
       "      <th>date_review</th>\n",
       "      <th>type_review</th>\n",
       "      <th>title</th>\n",
       "      <th>text</th>\n",
       "      <th>answer</th>\n",
       "      <th>curator</th>\n",
       "      <th>curators_decision</th>\n",
       "      <th>date_curator_review</th>\n",
       "      <th>status</th>\n",
       "      <th>review_rang</th>\n",
       "    </tr>\n",
       "  </thead>\n",
       "  <tbody>\n",
       "    <tr>\n",
       "      <th>4067</th>\n",
       "      <td>Федеральный</td>\n",
       "      <td>Федеральная налоговая служба</td>\n",
       "      <td>http://www.nalog.ru</td>\n",
       "      <td>2013-05-16</td>\n",
       "      <td>город федерального значения</td>\n",
       "      <td>Правительство</td>\n",
       "      <td>2015-07-05</td>\n",
       "      <td>Идея</td>\n",
       "      <td>БЛАНКИ</td>\n",
       "      <td>NaN</td>\n",
       "      <td>Добрый день! В чем суть Вашего вопроса?</td>\n",
       "      <td>Киселев Владимир Константинович</td>\n",
       "      <td>Обработать</td>\n",
       "      <td>2015-05-18</td>\n",
       "      <td>Обработан</td>\n",
       "      <td>Нет оценки</td>\n",
       "    </tr>\n",
       "    <tr>\n",
       "      <th>10321</th>\n",
       "      <td>Федеральный</td>\n",
       "      <td>Федеральная служба судебных приставов</td>\n",
       "      <td>http://www.fssprus.ru</td>\n",
       "      <td>2013-05-16</td>\n",
       "      <td>город федерального значения</td>\n",
       "      <td>Президент</td>\n",
       "      <td>2014-09-19</td>\n",
       "      <td>Идея</td>\n",
       "      <td>Как часто обновляется сайт? Погашеную задолжно...</td>\n",
       "      <td>NaN</td>\n",
       "      <td>Банк данных исполнительных производств формиру...</td>\n",
       "      <td>Ищенко Роман Вячеславович</td>\n",
       "      <td>Обработать</td>\n",
       "      <td>2015-02-25</td>\n",
       "      <td>Обработан</td>\n",
       "      <td>Нет оценки</td>\n",
       "    </tr>\n",
       "    <tr>\n",
       "      <th>16468</th>\n",
       "      <td>Активные участники</td>\n",
       "      <td>Федеральная служба по тарифам (Упразднена в со...</td>\n",
       "      <td>http://www.fstrf.ru</td>\n",
       "      <td>2013-05-16</td>\n",
       "      <td>город федерального значения</td>\n",
       "      <td>Правительство</td>\n",
       "      <td>2014-11-03</td>\n",
       "      <td>Благодарность</td>\n",
       "      <td>сайт четко организован, информация полная, пои...</td>\n",
       "      <td>NaN</td>\n",
       "      <td>Добрый день! Спасибо за Ваш отзыв!</td>\n",
       "      <td>Бердникова Анастасия Андреевна</td>\n",
       "      <td>Обработать</td>\n",
       "      <td>2014-11-03</td>\n",
       "      <td>Обработан</td>\n",
       "      <td>Нет оценки</td>\n",
       "    </tr>\n",
       "  </tbody>\n",
       "</table>\n",
       "</div>"
      ],
      "text/plain": [
       "                    level                                          site_name  \\\n",
       "4067          Федеральный                       Федеральная налоговая служба   \n",
       "10321         Федеральный              Федеральная служба судебных приставов   \n",
       "16468  Активные участники  Федеральная служба по тарифам (Упразднена в со...   \n",
       "\n",
       "                     website  date_site                 type_subject  \\\n",
       "4067     http://www.nalog.ru 2013-05-16  город федерального значения   \n",
       "10321  http://www.fssprus.ru 2013-05-16  город федерального значения   \n",
       "16468    http://www.fstrf.ru 2013-05-16  город федерального значения   \n",
       "\n",
       "        jurisdiction date_review    type_review  \\\n",
       "4067   Правительство  2015-07-05           Идея   \n",
       "10321      Президент  2014-09-19           Идея   \n",
       "16468  Правительство  2014-11-03  Благодарность   \n",
       "\n",
       "                                                   title text  \\\n",
       "4067                                              БЛАНКИ  NaN   \n",
       "10321  Как часто обновляется сайт? Погашеную задолжно...  NaN   \n",
       "16468  сайт четко организован, информация полная, пои...  NaN   \n",
       "\n",
       "                                                  answer  \\\n",
       "4067             Добрый день! В чем суть Вашего вопроса?   \n",
       "10321  Банк данных исполнительных производств формиру...   \n",
       "16468                 Добрый день! Спасибо за Ваш отзыв!   \n",
       "\n",
       "                               curator curators_decision date_curator_review  \\\n",
       "4067   Киселев Владимир Константинович        Обработать          2015-05-18   \n",
       "10321        Ищенко Роман Вячеславович        Обработать          2015-02-25   \n",
       "16468   Бердникова Анастасия Андреевна        Обработать          2014-11-03   \n",
       "\n",
       "          status review_rang  \n",
       "4067   Обработан  Нет оценки  \n",
       "10321  Обработан  Нет оценки  \n",
       "16468  Обработан  Нет оценки  "
      ]
     },
     "execution_count": 177,
     "metadata": {},
     "output_type": "execute_result"
    }
   ],
   "source": [
    "data.query(\"text.isnull()\")"
   ]
  },
  {
   "cell_type": "markdown",
   "id": "f139ef09",
   "metadata": {},
   "source": [
    "    - Как видим причина пропусков - некорректная работа сайтов. Два вопроса находятся в title, один вопрос с ошибкой\n",
    "    - Итого один отзыв удаляем, а в других переносим заголовок в текст, а в заголовке пишем \"Заголовок\""
   ]
  },
  {
   "cell_type": "markdown",
   "id": "b9e4acc2",
   "metadata": {},
   "source": [
    "Удалим строку по индексу, для избежания ошибок"
   ]
  },
  {
   "cell_type": "code",
   "execution_count": 178,
   "id": "222dc90b",
   "metadata": {},
   "outputs": [],
   "source": [
    "data = data.drop(index=[4067])"
   ]
  },
  {
   "cell_type": "code",
   "execution_count": 179,
   "id": "f57cad5f",
   "metadata": {},
   "outputs": [],
   "source": [
    "data.loc[data.text.isnull(),['text','title']] = data.loc[data.text.isnull(),'title'],'Заголовок'"
   ]
  },
  {
   "cell_type": "markdown",
   "id": "ea26b9d7",
   "metadata": {},
   "source": [
    " - отзывы, связанные с кураторами и ответами на вопросы"
   ]
  },
  {
   "cell_type": "markdown",
   "id": "1a7406c7",
   "metadata": {},
   "source": [
    "Рассмотрим отзывы, в которых был ответ, но куратор пропущен"
   ]
  },
  {
   "cell_type": "code",
   "execution_count": 188,
   "id": "869780d4",
   "metadata": {},
   "outputs": [
    {
     "data": {
      "text/html": [
       "<div>\n",
       "<style scoped>\n",
       "    .dataframe tbody tr th:only-of-type {\n",
       "        vertical-align: middle;\n",
       "    }\n",
       "\n",
       "    .dataframe tbody tr th {\n",
       "        vertical-align: top;\n",
       "    }\n",
       "\n",
       "    .dataframe thead th {\n",
       "        text-align: right;\n",
       "    }\n",
       "</style>\n",
       "<table border=\"1\" class=\"dataframe\">\n",
       "  <thead>\n",
       "    <tr style=\"text-align: right;\">\n",
       "      <th></th>\n",
       "      <th>level</th>\n",
       "      <th>site_name</th>\n",
       "      <th>website</th>\n",
       "      <th>date_site</th>\n",
       "      <th>type_subject</th>\n",
       "      <th>jurisdiction</th>\n",
       "      <th>date_review</th>\n",
       "      <th>type_review</th>\n",
       "      <th>title</th>\n",
       "      <th>text</th>\n",
       "      <th>answer</th>\n",
       "      <th>curator</th>\n",
       "      <th>curators_decision</th>\n",
       "      <th>date_curator_review</th>\n",
       "      <th>status</th>\n",
       "      <th>review_rang</th>\n",
       "    </tr>\n",
       "  </thead>\n",
       "  <tbody>\n",
       "    <tr>\n",
       "      <th>334</th>\n",
       "      <td>Федеральный</td>\n",
       "      <td>Министерство природных ресурсов и экологии Рос...</td>\n",
       "      <td>http://www.mnr.gov.ru</td>\n",
       "      <td>2013-05-16</td>\n",
       "      <td>город федерального значения</td>\n",
       "      <td>Правительство</td>\n",
       "      <td>2012-09-13</td>\n",
       "      <td>Вопрос</td>\n",
       "      <td>Хотелось бы узнать, по какой причине на сайте ...</td>\n",
       "      <td>Хотелось бы узнать, по какой причине на сайте ...</td>\n",
       "      <td>Государственный доклад «О состоянии и использо...</td>\n",
       "      <td>NaN</td>\n",
       "      <td>Обработать</td>\n",
       "      <td>NaT</td>\n",
       "      <td>Рассмотрение</td>\n",
       "      <td>Нет оценки</td>\n",
       "    </tr>\n",
       "    <tr>\n",
       "      <th>346</th>\n",
       "      <td>Федеральный</td>\n",
       "      <td>Министерство природных ресурсов и экологии Рос...</td>\n",
       "      <td>http://www.mnr.gov.ru</td>\n",
       "      <td>2013-05-16</td>\n",
       "      <td>город федерального значения</td>\n",
       "      <td>Правительство</td>\n",
       "      <td>2013-07-01</td>\n",
       "      <td>Вопрос</td>\n",
       "      <td>Где госдоклад за 2011 г.?</td>\n",
       "      <td>Где госдоклад за 2011 г.?</td>\n",
       "      <td>Добрый день. Со всеми государственными доклада...</td>\n",
       "      <td>NaN</td>\n",
       "      <td>Обработать</td>\n",
       "      <td>NaT</td>\n",
       "      <td>Рассмотрение</td>\n",
       "      <td>Нет оценки</td>\n",
       "    </tr>\n",
       "    <tr>\n",
       "      <th>348</th>\n",
       "      <td>Федеральный</td>\n",
       "      <td>Министерство природных ресурсов и экологии Рос...</td>\n",
       "      <td>http://www.mnr.gov.ru</td>\n",
       "      <td>2013-05-16</td>\n",
       "      <td>город федерального значения</td>\n",
       "      <td>Правительство</td>\n",
       "      <td>2013-02-26</td>\n",
       "      <td>Проблема</td>\n",
       "      <td>сайт отвратительный невозможно найти ссылку дл...</td>\n",
       "      <td>сайт отвратительный невозможно найти ссылку дл...</td>\n",
       "      <td>Добрый день. Просим более корректно сформулиро...</td>\n",
       "      <td>NaN</td>\n",
       "      <td>Обработать</td>\n",
       "      <td>NaT</td>\n",
       "      <td>Рассмотрение</td>\n",
       "      <td>Нет оценки</td>\n",
       "    </tr>\n",
       "    <tr>\n",
       "      <th>349</th>\n",
       "      <td>Федеральный</td>\n",
       "      <td>Министерство природных ресурсов и экологии Рос...</td>\n",
       "      <td>http://www.mnr.gov.ru</td>\n",
       "      <td>2013-05-16</td>\n",
       "      <td>город федерального значения</td>\n",
       "      <td>Правительство</td>\n",
       "      <td>2013-05-03</td>\n",
       "      <td>Вопрос</td>\n",
       "      <td>Не нашел рубрику обращений граждан. На сайте М...</td>\n",
       "      <td>Не нашел рубрику обращений граждан. На сайте М...</td>\n",
       "      <td>Добрый день. Вы можете обратиться в Минприроды...</td>\n",
       "      <td>NaN</td>\n",
       "      <td>Обработать</td>\n",
       "      <td>NaT</td>\n",
       "      <td>Рассмотрение</td>\n",
       "      <td>Нет оценки</td>\n",
       "    </tr>\n",
       "    <tr>\n",
       "      <th>351</th>\n",
       "      <td>Федеральный</td>\n",
       "      <td>Министерство природных ресурсов и экологии Рос...</td>\n",
       "      <td>http://www.mnr.gov.ru</td>\n",
       "      <td>2013-05-16</td>\n",
       "      <td>город федерального значения</td>\n",
       "      <td>Правительство</td>\n",
       "      <td>2013-03-23</td>\n",
       "      <td>Идея</td>\n",
       "      <td>Хотелось бы прозрачности, непонятно чем занима...</td>\n",
       "      <td>Хотелось бы прозрачности, непонятно чем занима...</td>\n",
       "      <td>Добрый день. С информацией о деятельности Минп...</td>\n",
       "      <td>NaN</td>\n",
       "      <td>Обработать</td>\n",
       "      <td>NaT</td>\n",
       "      <td>Рассмотрение</td>\n",
       "      <td>Нет оценки</td>\n",
       "    </tr>\n",
       "    <tr>\n",
       "      <th>...</th>\n",
       "      <td>...</td>\n",
       "      <td>...</td>\n",
       "      <td>...</td>\n",
       "      <td>...</td>\n",
       "      <td>...</td>\n",
       "      <td>...</td>\n",
       "      <td>...</td>\n",
       "      <td>...</td>\n",
       "      <td>...</td>\n",
       "      <td>...</td>\n",
       "      <td>...</td>\n",
       "      <td>...</td>\n",
       "      <td>...</td>\n",
       "      <td>...</td>\n",
       "      <td>...</td>\n",
       "      <td>...</td>\n",
       "    </tr>\n",
       "    <tr>\n",
       "      <th>16484</th>\n",
       "      <td>Активные участники</td>\n",
       "      <td>Федеральная служба по тарифам (Упразднена в со...</td>\n",
       "      <td>http://www.fstrf.ru</td>\n",
       "      <td>2013-05-16</td>\n",
       "      <td>город федерального значения</td>\n",
       "      <td>Правительство</td>\n",
       "      <td>2014-03-05</td>\n",
       "      <td>Благодарность</td>\n",
       "      <td>СПАСИБО</td>\n",
       "      <td>ПРОСТО СУПЕР!!!</td>\n",
       "      <td>Спасибо, что являетесь пользователем нашего са...</td>\n",
       "      <td>NaN</td>\n",
       "      <td>Обработать</td>\n",
       "      <td>NaT</td>\n",
       "      <td>Рассмотрение</td>\n",
       "      <td>Нет оценки</td>\n",
       "    </tr>\n",
       "    <tr>\n",
       "      <th>16485</th>\n",
       "      <td>Активные участники</td>\n",
       "      <td>Федеральная служба по тарифам (Упразднена в со...</td>\n",
       "      <td>http://www.fstrf.ru</td>\n",
       "      <td>2013-05-16</td>\n",
       "      <td>город федерального значения</td>\n",
       "      <td>Правительство</td>\n",
       "      <td>2014-05-05</td>\n",
       "      <td>Проблема</td>\n",
       "      <td>В Калькуляторе неправильно учитывается нормати...</td>\n",
       "      <td>Добрый день! При расчете платы за отопление не...</td>\n",
       "      <td>Добрый день! К сожалению, Вы не указали муници...</td>\n",
       "      <td>NaN</td>\n",
       "      <td>Обработать</td>\n",
       "      <td>NaT</td>\n",
       "      <td>Рассмотрение</td>\n",
       "      <td>Нет оценки</td>\n",
       "    </tr>\n",
       "    <tr>\n",
       "      <th>16486</th>\n",
       "      <td>Активные участники</td>\n",
       "      <td>Федеральная служба по тарифам (Упразднена в со...</td>\n",
       "      <td>http://www.fstrf.ru</td>\n",
       "      <td>2013-05-16</td>\n",
       "      <td>город федерального значения</td>\n",
       "      <td>Правительство</td>\n",
       "      <td>2014-06-05</td>\n",
       "      <td>Вопрос</td>\n",
       "      <td>Почему нет данных за апрель, хотя сегодня уже ...</td>\n",
       "      <td>Почему нет данных за апрель, хотя сегодня уже ...</td>\n",
       "      <td>Добрый день! Данные загружаются региональными ...</td>\n",
       "      <td>NaN</td>\n",
       "      <td>Обработать</td>\n",
       "      <td>NaT</td>\n",
       "      <td>Рассмотрение</td>\n",
       "      <td>Нет оценки</td>\n",
       "    </tr>\n",
       "    <tr>\n",
       "      <th>16487</th>\n",
       "      <td>Активные участники</td>\n",
       "      <td>Федеральная служба по тарифам (Упразднена в со...</td>\n",
       "      <td>http://www.fstrf.ru</td>\n",
       "      <td>2013-05-16</td>\n",
       "      <td>город федерального значения</td>\n",
       "      <td>Правительство</td>\n",
       "      <td>2014-11-05</td>\n",
       "      <td>Идея</td>\n",
       "      <td>Гадкая работа сайта. И это ещё самое ласковое ...</td>\n",
       "      <td>Ваш сайт работает ОТ-ВРА-ТИ-ТЕЛЬ-НО !!!!! Не о...</td>\n",
       "      <td>Добрый день!\\nИнформация по тарифным решениям....</td>\n",
       "      <td>NaN</td>\n",
       "      <td>Обработать</td>\n",
       "      <td>NaT</td>\n",
       "      <td>Рассмотрение</td>\n",
       "      <td>Нет оценки</td>\n",
       "    </tr>\n",
       "    <tr>\n",
       "      <th>16497</th>\n",
       "      <td>Активные участники</td>\n",
       "      <td>Федеральная служба по тарифам (Упразднена в со...</td>\n",
       "      <td>http://www.fstrf.ru</td>\n",
       "      <td>2013-05-16</td>\n",
       "      <td>город федерального значения</td>\n",
       "      <td>Правительство</td>\n",
       "      <td>2014-02-06</td>\n",
       "      <td>Проблема</td>\n",
       "      <td>Тарифы г. Дзержинский</td>\n",
       "      <td>Для города Дзержинский МО можно выбрать только...</td>\n",
       "      <td>Добрый день! Данные за 2013 и 2014 год доступн...</td>\n",
       "      <td>NaN</td>\n",
       "      <td>Обработать</td>\n",
       "      <td>NaT</td>\n",
       "      <td>Рассмотрение</td>\n",
       "      <td>Нет оценки</td>\n",
       "    </tr>\n",
       "  </tbody>\n",
       "</table>\n",
       "<p>703 rows × 16 columns</p>\n",
       "</div>"
      ],
      "text/plain": [
       "                    level                                          site_name  \\\n",
       "334           Федеральный  Министерство природных ресурсов и экологии Рос...   \n",
       "346           Федеральный  Министерство природных ресурсов и экологии Рос...   \n",
       "348           Федеральный  Министерство природных ресурсов и экологии Рос...   \n",
       "349           Федеральный  Министерство природных ресурсов и экологии Рос...   \n",
       "351           Федеральный  Министерство природных ресурсов и экологии Рос...   \n",
       "...                   ...                                                ...   \n",
       "16484  Активные участники  Федеральная служба по тарифам (Упразднена в со...   \n",
       "16485  Активные участники  Федеральная служба по тарифам (Упразднена в со...   \n",
       "16486  Активные участники  Федеральная служба по тарифам (Упразднена в со...   \n",
       "16487  Активные участники  Федеральная служба по тарифам (Упразднена в со...   \n",
       "16497  Активные участники  Федеральная служба по тарифам (Упразднена в со...   \n",
       "\n",
       "                     website  date_site                 type_subject  \\\n",
       "334    http://www.mnr.gov.ru 2013-05-16  город федерального значения   \n",
       "346    http://www.mnr.gov.ru 2013-05-16  город федерального значения   \n",
       "348    http://www.mnr.gov.ru 2013-05-16  город федерального значения   \n",
       "349    http://www.mnr.gov.ru 2013-05-16  город федерального значения   \n",
       "351    http://www.mnr.gov.ru 2013-05-16  город федерального значения   \n",
       "...                      ...        ...                          ...   \n",
       "16484    http://www.fstrf.ru 2013-05-16  город федерального значения   \n",
       "16485    http://www.fstrf.ru 2013-05-16  город федерального значения   \n",
       "16486    http://www.fstrf.ru 2013-05-16  город федерального значения   \n",
       "16487    http://www.fstrf.ru 2013-05-16  город федерального значения   \n",
       "16497    http://www.fstrf.ru 2013-05-16  город федерального значения   \n",
       "\n",
       "        jurisdiction date_review    type_review  \\\n",
       "334    Правительство  2012-09-13         Вопрос   \n",
       "346    Правительство  2013-07-01         Вопрос   \n",
       "348    Правительство  2013-02-26       Проблема   \n",
       "349    Правительство  2013-05-03         Вопрос   \n",
       "351    Правительство  2013-03-23           Идея   \n",
       "...              ...         ...            ...   \n",
       "16484  Правительство  2014-03-05  Благодарность   \n",
       "16485  Правительство  2014-05-05       Проблема   \n",
       "16486  Правительство  2014-06-05         Вопрос   \n",
       "16487  Правительство  2014-11-05           Идея   \n",
       "16497  Правительство  2014-02-06       Проблема   \n",
       "\n",
       "                                                   title  \\\n",
       "334    Хотелось бы узнать, по какой причине на сайте ...   \n",
       "346                            Где госдоклад за 2011 г.?   \n",
       "348    сайт отвратительный невозможно найти ссылку дл...   \n",
       "349    Не нашел рубрику обращений граждан. На сайте М...   \n",
       "351    Хотелось бы прозрачности, непонятно чем занима...   \n",
       "...                                                  ...   \n",
       "16484                                            СПАСИБО   \n",
       "16485  В Калькуляторе неправильно учитывается нормати...   \n",
       "16486  Почему нет данных за апрель, хотя сегодня уже ...   \n",
       "16487  Гадкая работа сайта. И это ещё самое ласковое ...   \n",
       "16497                              Тарифы г. Дзержинский   \n",
       "\n",
       "                                                    text  \\\n",
       "334    Хотелось бы узнать, по какой причине на сайте ...   \n",
       "346                            Где госдоклад за 2011 г.?   \n",
       "348    сайт отвратительный невозможно найти ссылку дл...   \n",
       "349    Не нашел рубрику обращений граждан. На сайте М...   \n",
       "351    Хотелось бы прозрачности, непонятно чем занима...   \n",
       "...                                                  ...   \n",
       "16484                                    ПРОСТО СУПЕР!!!   \n",
       "16485  Добрый день! При расчете платы за отопление не...   \n",
       "16486  Почему нет данных за апрель, хотя сегодня уже ...   \n",
       "16487  Ваш сайт работает ОТ-ВРА-ТИ-ТЕЛЬ-НО !!!!! Не о...   \n",
       "16497  Для города Дзержинский МО можно выбрать только...   \n",
       "\n",
       "                                                  answer curator  \\\n",
       "334    Государственный доклад «О состоянии и использо...     NaN   \n",
       "346    Добрый день. Со всеми государственными доклада...     NaN   \n",
       "348    Добрый день. Просим более корректно сформулиро...     NaN   \n",
       "349    Добрый день. Вы можете обратиться в Минприроды...     NaN   \n",
       "351    Добрый день. С информацией о деятельности Минп...     NaN   \n",
       "...                                                  ...     ...   \n",
       "16484  Спасибо, что являетесь пользователем нашего са...     NaN   \n",
       "16485  Добрый день! К сожалению, Вы не указали муници...     NaN   \n",
       "16486  Добрый день! Данные загружаются региональными ...     NaN   \n",
       "16487  Добрый день!\\nИнформация по тарифным решениям....     NaN   \n",
       "16497  Добрый день! Данные за 2013 и 2014 год доступн...     NaN   \n",
       "\n",
       "      curators_decision date_curator_review        status review_rang  \n",
       "334          Обработать                 NaT  Рассмотрение  Нет оценки  \n",
       "346          Обработать                 NaT  Рассмотрение  Нет оценки  \n",
       "348          Обработать                 NaT  Рассмотрение  Нет оценки  \n",
       "349          Обработать                 NaT  Рассмотрение  Нет оценки  \n",
       "351          Обработать                 NaT  Рассмотрение  Нет оценки  \n",
       "...                 ...                 ...           ...         ...  \n",
       "16484        Обработать                 NaT  Рассмотрение  Нет оценки  \n",
       "16485        Обработать                 NaT  Рассмотрение  Нет оценки  \n",
       "16486        Обработать                 NaT  Рассмотрение  Нет оценки  \n",
       "16487        Обработать                 NaT  Рассмотрение  Нет оценки  \n",
       "16497        Обработать                 NaT  Рассмотрение  Нет оценки  \n",
       "\n",
       "[703 rows x 16 columns]"
      ]
     },
     "execution_count": 188,
     "metadata": {},
     "output_type": "execute_result"
    }
   ],
   "source": [
    "data.query('answer.notnull() and curator.isnull()')"
   ]
  },
  {
   "cell_type": "code",
   "execution_count": 192,
   "id": "6fa416b9",
   "metadata": {},
   "outputs": [
    {
     "data": {
      "text/plain": [
       "array([nan, 'Минздрав России', 'Гуров Филипп Никитич',\n",
       "       'Сизова Татьяна Евгеньевна', 'Демура Андрей Сергеевич',\n",
       "       'Филиппов С.Л.', 'Кузьменко Иван Юрьевич',\n",
       "       'Язынин Николай Николаевич', 'Минстрой',\n",
       "       'Полянин Константин Николаевич', 'Волков Александр Михайлович',\n",
       "       'Игнатьева Татьяна Юрьевна', 'Яковлева Галина Павловна',\n",
       "       'Харчук Василий Анатольевич', 'Администратор', 'Мария',\n",
       "       'Муратов Вячеслав Владимирович',\n",
       "       'Борисов Константин Александрович', 'Улина Елена Сергеевна',\n",
       "       'Сафонова Наталья Сергеевна', 'Мартиняхин Виталий Геннадьевич',\n",
       "       'Копчикова Любовь Валерьевна', 'Киселев Владимир Константинович',\n",
       "       'Смыслова Светлана Викторовна', 'Владимир',\n",
       "       'Бутенко Юрий Валентинович', 'Казьмин Павел Николаевич',\n",
       "       'Казеко Владимир Сергеевич', 'Анцыпович Владимир Александрович',\n",
       "       'Д.Н. Кравцов', 'Роголева Анна Сергеевна',\n",
       "       'Улько Всеволод Евгеньевич', 'Сергеева Анна Александровна',\n",
       "       'Сидракова Ирина Анатольевна', 'Поспелов Кирилл Гельевич',\n",
       "       'Михаил', 'Соловьев Евгений', 'Ампелонский Вадим Вячеславович',\n",
       "       'Кочеткова Елена Андреевна', 'Блудов Алексей Александрович',\n",
       "       'Тишуков Алексей Сергеевич', 'Виталий Лосев',\n",
       "       'Шуков Антон Александрович', 'ФСКН',\n",
       "       'Червинский Владимир Петрович', 'Ищенко Роман Вячеславович',\n",
       "       'Демкин Павел Алексеевич', 'Терентьев Леонид Витальевич',\n",
       "       'Ковалев Денис Владимирович', 'Сергей Извольский', 'morflot',\n",
       "       'Мурыгина Анна Николаевна', 'Васильева Инесса Николаевна',\n",
       "       'Нибаев Денис Сергеевич', 'Цыден', 'Щербакова Лидия Николаевна',\n",
       "       'Евсюков Вячеслав Сергеевич', 'Янковой Александр Николаевич',\n",
       "       'Латышева Марина Эдуардовна', 'Рябушко Александр Николаевич',\n",
       "       'Наливайко Александр Валерьевич', 'Ayup-han',\n",
       "       'Хохлов Александр Федорович', 'Новиков Янис Александрович',\n",
       "       'Брыкин Сергей Павлович', 'Марков Михаил Анатольевич',\n",
       "       'Кривошеев Матвей Николаевич', 'Пиакартов Мурат Хасанбиевич',\n",
       "       'Вагина Светлана Леонидовна', 'Гордеев Вячеслав Валериевич',\n",
       "       'Степанова Юлия Александровна', 'Муссорина Надежда Андреевна',\n",
       "       'Минин Алексей Александрович', 'Подъяпольский Алексей Борисович',\n",
       "       'Кулик Евгения Юрьевна', 'Достовалов Станислав Петрович', 'guipmo',\n",
       "       'morozovaiyu', 'Скрипник Игорь Иванович',\n",
       "       'Новосёлова Наталья Геннадьевна',\n",
       "       'Кузнецова Светлана Владимировна', 'Чистяков Алексей Леонидович',\n",
       "       'Каверзнев Глеб Юрьевич', 'Берман Кирилл Александрович',\n",
       "       'Александрова Лариса Михайловна', 'Oleg Popov',\n",
       "       'Бердникова Анастасия Андреевна', 'Попова Валерия Анатольевна'],\n",
       "      dtype=object)"
      ]
     },
     "execution_count": 192,
     "metadata": {},
     "output_type": "execute_result"
    }
   ],
   "source": [
    "data.curator.unique()"
   ]
  },
  {
   "cell_type": "code",
   "execution_count": null,
   "id": "c9ac6810",
   "metadata": {},
   "outputs": [],
   "source": []
  },
  {
   "cell_type": "code",
   "execution_count": null,
   "id": "75b6ada1",
   "metadata": {},
   "outputs": [],
   "source": []
  },
  {
   "cell_type": "code",
   "execution_count": null,
   "id": "a351240f",
   "metadata": {},
   "outputs": [],
   "source": []
  },
  {
   "cell_type": "code",
   "execution_count": null,
   "id": "93184fab",
   "metadata": {},
   "outputs": [],
   "source": []
  },
  {
   "cell_type": "code",
   "execution_count": null,
   "id": "7b3d9e96",
   "metadata": {},
   "outputs": [],
   "source": []
  },
  {
   "cell_type": "code",
   "execution_count": null,
   "id": "90ccf1c5",
   "metadata": {},
   "outputs": [],
   "source": []
  }
 ],
 "metadata": {
  "kernelspec": {
   "display_name": "Python 3",
   "language": "python",
   "name": "python3"
  },
  "language_info": {
   "codemirror_mode": {
    "name": "ipython",
    "version": 3
   },
   "file_extension": ".py",
   "mimetype": "text/x-python",
   "name": "python",
   "nbconvert_exporter": "python",
   "pygments_lexer": "ipython3",
   "version": "3.9.5"
  },
  "latex_envs": {
   "LaTeX_envs_menu_present": true,
   "autoclose": false,
   "autocomplete": true,
   "bibliofile": "biblio.bib",
   "cite_by": "apalike",
   "current_citInitial": 1,
   "eqLabelWithNumbers": true,
   "eqNumInitial": 1,
   "hotkeys": {
    "equation": "Ctrl-E",
    "itemize": "Ctrl-I"
   },
   "labels_anchors": false,
   "latex_user_defs": false,
   "report_style_numbering": false,
   "user_envs_cfg": false
  },
  "toc": {
   "base_numbering": 1,
   "nav_menu": {},
   "number_sections": true,
   "sideBar": true,
   "skip_h1_title": false,
   "title_cell": "Table of Contents",
   "title_sidebar": "Contents",
   "toc_cell": false,
   "toc_position": {},
   "toc_section_display": true,
   "toc_window_display": false
  }
 },
 "nbformat": 4,
 "nbformat_minor": 5
}
